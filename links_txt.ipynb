{
  "nbformat": 4,
  "nbformat_minor": 0,
  "metadata": {
    "colab": {
      "provenance": []
    },
    "kernelspec": {
      "name": "python3",
      "display_name": "Python 3"
    },
    "language_info": {
      "name": "python"
    }
  },
  "cells": [
    {
      "cell_type": "code",
      "source": [
        "pip install xlwt"
      ],
      "metadata": {
        "colab": {
          "base_uri": "https://localhost:8080/"
        },
        "id": "HtDeRSKcVrR6",
        "outputId": "12ae4c91-76c8-4281-e73b-b5bbdec0d72e"
      },
      "execution_count": 1,
      "outputs": [
        {
          "output_type": "stream",
          "name": "stdout",
          "text": [
            "Collecting xlwt\n",
            "  Downloading xlwt-1.3.0-py2.py3-none-any.whl (99 kB)\n",
            "\u001b[?25l     \u001b[90m━━━━━━━━━━━━━━━━━━━━━━━━━━━━━━━━━━━━━━━━\u001b[0m \u001b[32m0.0/100.0 kB\u001b[0m \u001b[31m?\u001b[0m eta \u001b[36m-:--:--\u001b[0m\r\u001b[2K     \u001b[90m━━━━━━━━━━━━━━━━━━━━━━━━━━━━━━━━━━━━━━━\u001b[0m \u001b[32m100.0/100.0 kB\u001b[0m \u001b[31m3.1 MB/s\u001b[0m eta \u001b[36m0:00:00\u001b[0m\n",
            "\u001b[?25hInstalling collected packages: xlwt\n",
            "Successfully installed xlwt-1.3.0\n"
          ]
        }
      ]
    },
    {
      "cell_type": "code",
      "execution_count": 2,
      "metadata": {
        "colab": {
          "base_uri": "https://localhost:8080/"
        },
        "id": "krTlgxIUDPXN",
        "outputId": "43301d4c-c5b5-4302-9bd3-9d0828787801"
      },
      "outputs": [
        {
          "output_type": "stream",
          "name": "stdout",
          "text": [
            "['https://www.youtube.com/watch?v=4xlFU6u3-DU', 'https://www.youtube.com/watch?v=vnkRvx3-j-k', 'https://www.youtube.com/watch?v=nX8pDq1-mz4', 'https://www.youtube.com/watch?v=QMbx0dTWJIQ', 'https://www.youtube.com/watch?v=-atblwgc63E', 'https://cpu.land/', 'https://www.hacksplaining.com/', 'https://roadmap.sh/', 'https://dev.to/lydiahallie/series/3341', 'https://samwho.dev/memory-allocation/']\n"
          ]
        }
      ],
      "source": [
        "import requests\n",
        "import html\n",
        "from bs4 import BeautifulSoup\n",
        "import xlwt\n",
        "from xlwt import Workbook\n",
        "\n",
        "#creating an excel file\n",
        "wb = Workbook()\n",
        "sheet = wb.add_sheet('LINKS')\n",
        "\n",
        "#opening link file and saving body to body\n",
        "file = open(\"links.txt\",\"rt\")\n",
        "body = file.read()\n",
        "file.close()\n",
        "\n",
        "#creating list of links\n",
        "urls = body.split('\\n')\n",
        "print(urls)\n",
        "\n",
        "#headings\n",
        "sheet.write(0,0,\"LINK\")\n",
        "sheet.write(0,1,\"TITLE\")\n",
        "\n",
        "for i in range(1,(len(urls))+1):\n",
        "  try:\n",
        "    r = requests.get(urls[i-1])\n",
        "  except:\n",
        "    sheet.write(i,0,urls[i-1])\n",
        "    sheet.write(i,1,\"              \")\n",
        "    continue\n",
        "  soup = BeautifulSoup(r.text)\n",
        "  try:\n",
        "    link = soup.find_all(name=\"title\")[0]\n",
        "  except:\n",
        "    sheet.write(i,0,urls[i-1])\n",
        "    sheet.write(i,1,\"TITLE ERROR\")\n",
        "    continue\n",
        "  title = str(link)\n",
        "  title = title.replace(\"<title>\",\"\")\n",
        "  title=title.replace(\"</title>\",\"\")\n",
        "  title = html.unescape(title)\n",
        "\n",
        "  #print(title)\n",
        "\n",
        "  sheet.write(i,0,urls[i-1])\n",
        "  sheet.write(i,1,title)\n",
        "wb.save('LINKS.xls')"
      ]
    },
    {
      "cell_type": "code",
      "source": [
        "file = open(\"links.txt\",\"rt\")\n",
        "body = file.read()\n",
        "file.close()\n",
        "strng=\"\"\n",
        "for i in range(len(body)):\n",
        "  if body[i]==\"\\n\":\n",
        "    strng+=\"\"\n",
        "  else:\n",
        "    strng+=body[i]\n",
        "print(strng)"
      ],
      "metadata": {
        "colab": {
          "base_uri": "https://localhost:8080/"
        },
        "id": "IfDGN0DoQ6yU",
        "outputId": "6ebdfd7b-40cc-4571-a1f1-84be41680f5a"
      },
      "execution_count": 3,
      "outputs": [
        {
          "output_type": "stream",
          "name": "stdout",
          "text": [
            "https://www.youtube.com/watch?v=4xlFU6u3-DUhttps://www.youtube.com/watch?v=vnkRvx3-j-khttps://www.youtube.com/watch?v=nX8pDq1-mz4https://www.youtube.com/watch?v=QMbx0dTWJIQhttps://www.youtube.com/watch?v=-atblwgc63Ehttps://cpu.land/https://www.hacksplaining.com/https://roadmap.sh/https://dev.to/lydiahallie/series/3341https://samwho.dev/memory-allocation/\n"
          ]
        }
      ]
    }
  ]
}